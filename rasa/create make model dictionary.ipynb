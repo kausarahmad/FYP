{
 "cells": [
  {
   "cell_type": "code",
   "execution_count": 9,
   "metadata": {},
   "outputs": [],
   "source": [
    "import pymysql\n",
    "from collections import defaultdict\n",
    "import json"
   ]
  },
  {
   "cell_type": "code",
   "execution_count": 18,
   "metadata": {},
   "outputs": [],
   "source": [
    "db = pymysql.connect(host='localhost',user='root',passwd='',db='caroogle')\n",
    "cursor = db.cursor()\n",
    "make_model_dict = defaultdict(lambda: [])\n",
    "query = (\"SELECT dim_make.make, dim_model.model FROM dim_make INNER JOIN dim_model ON dim_make.make_id=dim_model.make_id;\")\n",
    "cursor.execute(query)\n",
    "data = cursor.fetchall()\n",
    "for tup in data:\n",
    "    make_model_dict[tup[0]].append(tup[1])"
   ]
  },
  {
   "cell_type": "code",
   "execution_count": 23,
   "metadata": {},
   "outputs": [],
   "source": [
    "with open('make_model_dict.json', 'w') as fp:\n",
    "    json.dump(make_model_dict, fp)"
   ]
  }
 ],
 "metadata": {
  "kernelspec": {
   "display_name": "Python 3",
   "language": "python",
   "name": "python3"
  },
  "language_info": {
   "codemirror_mode": {
    "name": "ipython",
    "version": 3
   },
   "file_extension": ".py",
   "mimetype": "text/x-python",
   "name": "python",
   "nbconvert_exporter": "python",
   "pygments_lexer": "ipython3",
   "version": "3.6.7"
  }
 },
 "nbformat": 4,
 "nbformat_minor": 2
}
