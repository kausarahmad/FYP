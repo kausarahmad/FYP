{
  "nbformat": 4,
  "nbformat_minor": 0,
  "metadata": {
    "colab": {
      "name": "fyp-experiments.ipynb",
      "provenance": [],
      "collapsed_sections": []
    },
    "kernelspec": {
      "name": "python3",
      "display_name": "Python 3"
    },
    "accelerator": "GPU"
  },
  "cells": [
    {
      "cell_type": "code",
      "metadata": {
        "id": "4v_60VuuIRlI",
        "colab_type": "code",
        "colab": {}
      },
      "source": [
        "import pandas as pd\n",
        "import numpy as np\n",
        "import seaborn as sns\n",
        "import matplotlib.pyplot as plt"
      ],
      "execution_count": 0,
      "outputs": []
    },
    {
      "cell_type": "code",
      "metadata": {
        "id": "Nh_0mgDx1Icu",
        "colab_type": "code",
        "outputId": "9675dbaa-1e74-4a79-d314-85f8ffa5465f",
        "colab": {
          "base_uri": "https://localhost:8080/",
          "height": 122
        }
      },
      "source": [
        "from google.colab import drive\n",
        "drive.mount('/content/drive')"
      ],
      "execution_count": 0,
      "outputs": [
        {
          "output_type": "stream",
          "text": [
            "Go to this URL in a browser: https://accounts.google.com/o/oauth2/auth?client_id=947318989803-6bn6qk8qdgf4n4g3pfee6491hc0brc4i.apps.googleusercontent.com&redirect_uri=urn%3aietf%3awg%3aoauth%3a2.0%3aoob&response_type=code&scope=email%20https%3a%2f%2fwww.googleapis.com%2fauth%2fdocs.test%20https%3a%2f%2fwww.googleapis.com%2fauth%2fdrive%20https%3a%2f%2fwww.googleapis.com%2fauth%2fdrive.photos.readonly%20https%3a%2f%2fwww.googleapis.com%2fauth%2fpeopleapi.readonly\n",
            "\n",
            "Enter your authorization code:\n",
            "··········\n",
            "Mounted at /content/drive\n"
          ],
          "name": "stdout"
        }
      ]
    },
    {
      "cell_type": "code",
      "metadata": {
        "id": "9JqQbAvAIhqQ",
        "colab_type": "code",
        "outputId": "a3f5bb35-a7a2-4a2c-d02b-40013693a4c8",
        "colab": {
          "base_uri": "https://localhost:8080/",
          "height": 255
        }
      },
      "source": [
        "data= pd.read_csv(\"drive/My Drive/FYP/Data/ads_fact_500000_transformed.csv\", engine='python', encoding='utf-8', error_bad_lines=False)\n",
        "data = data.drop(['badge'],axis=1)\n",
        "data = data.drop(['coordinates'],axis=1)\n",
        "data = data.drop(['date_time'],axis=1)\n",
        "#removing NaNs\n",
        "data[['badge_transformed']] = data[['badge_transformed']].fillna(\"\")\n",
        "print (data)"
      ],
      "execution_count": 0,
      "outputs": [
        {
          "output_type": "stream",
          "text": [
            "           ad_id  make_id  ...  datetime_year  datetime_month\n",
            "0       73919640       34  ...           2019               7\n",
            "1       73919652        8  ...           2019               7\n",
            "2       73919677        8  ...           2019               7\n",
            "3       73919705       66  ...           2019               7\n",
            "4       73919723       81  ...           2019               7\n",
            "...          ...      ...  ...            ...             ...\n",
            "499995  93031487       86  ...           2019              11\n",
            "499996  93031488       53  ...           2019              11\n",
            "499997  93031587       29  ...           2019              11\n",
            "499998  93032161       93  ...           2019              11\n",
            "499999  93032179       29  ...           2019              11\n",
            "\n",
            "[500000 rows x 22 columns]\n"
          ],
          "name": "stdout"
        }
      ]
    },
    {
      "cell_type": "code",
      "metadata": {
        "id": "Bxpp1EU0X5cG",
        "colab_type": "code",
        "outputId": "2455e4f5-fe24-438a-a6a1-80b78c847f8c",
        "colab": {
          "base_uri": "https://localhost:8080/",
          "height": 296
        }
      },
      "source": [
        "sns.boxplot(x=data['price'])"
      ],
      "execution_count": 0,
      "outputs": [
        {
          "output_type": "execute_result",
          "data": {
            "text/plain": [
              "<matplotlib.axes._subplots.AxesSubplot at 0x7f4dc5e32c18>"
            ]
          },
          "metadata": {
            "tags": []
          },
          "execution_count": 21
        },
        {
          "output_type": "display_data",
          "data": {
            "image/png": "[encoded data removed]",
            "text/plain": [
              "<Figure size 432x288 with 1 Axes>"
            ]
          },
          "metadata": {
            "tags": []
          }
        }
      ]
    },
    {
      "cell_type": "code",
      "metadata": {
        "id": "BEc-8EZrZ4nK",
        "colab_type": "code",
        "outputId": "16a2b404-9a1a-4d52-b582-febe514d4de8",
        "colab": {
          "base_uri": "https://localhost:8080/",
          "height": 465
        }
      },
      "source": [
        "print(data.price.describe())\n",
        "print()\n",
        "data.price.plot(kind='hist')"
      ],
      "execution_count": 0,
      "outputs": [
        {
          "output_type": "stream",
          "text": [
            "count    5.000000e+05\n",
            "mean     2.734445e+04\n",
            "std      1.447427e+06\n",
            "min      0.000000e+00\n",
            "25%      1.249600e+04\n",
            "50%      1.988800e+04\n",
            "75%      3.000000e+04\n",
            "max      9.864846e+08\n",
            "Name: price, dtype: float64\n",
            "\n"
          ],
          "name": "stdout"
        },
        {
          "output_type": "execute_result",
          "data": {
            "text/plain": [
              "<matplotlib.axes._subplots.AxesSubplot at 0x7f4dbfdb1e80>"
            ]
          },
          "metadata": {
            "tags": []
          },
          "execution_count": 22
        },
        {
          "output_type": "display_data",
          "data": {
            "image/png": "[encoded data removed]",
            "text/plain": [
              "<Figure size 432x288 with 1 Axes>"
            ]
          },
          "metadata": {
            "tags": []
          }
        }
      ]
    },
    {
      "cell_type": "code",
      "metadata": {
        "id": "W-neC41MZ5J6",
        "colab_type": "code",
        "outputId": "c42c1d44-9e48-4280-978c-1fc1d1b5bd91",
        "colab": {
          "base_uri": "https://localhost:8080/",
          "height": 295
        }
      },
      "source": [
        "data.price.plot(kind='hist',bins=300)"
      ],
      "execution_count": 0,
      "outputs": [
        {
          "output_type": "execute_result",
          "data": {
            "text/plain": [
              "<matplotlib.axes._subplots.AxesSubplot at 0x7f4dc2f724a8>"
            ]
          },
          "metadata": {
            "tags": []
          },
          "execution_count": 23
        },
        {
          "output_type": "display_data",
          "data": {
            "image/png": "[encoded data removed]",
            "text/plain": [
              "<Figure size 432x288 with 1 Axes>"
            ]
          },
          "metadata": {
            "tags": []
          }
        }
      ]
    },
    {
      "cell_type": "code",
      "metadata": {
        "id": "pOyRp5-XFZni",
        "colab_type": "code",
        "colab": {}
      },
      "source": [
        "def detect_outlier(data):\n",
        "    \n",
        "    outliers = []\n",
        "\n",
        "    threshold=3\n",
        "    mean = np.nanmean(data.price.values)\n",
        "    std =np.nanstd(data.price.values)\n",
        "    \n",
        "    for index, row in data.iterrows():\n",
        "        y = row['price']\n",
        "        z_score = (y - mean)/std\n",
        "        if np.abs(z_score) > threshold:\n",
        "            outliers.append(index)\n",
        "    return outliers"
      ],
      "execution_count": 0,
      "outputs": []
    },
    {
      "cell_type": "code",
      "metadata": {
        "id": "Lmm_JaxoGbs7",
        "colab_type": "code",
        "outputId": "e4f639fa-3272-4a59-c110-0dfc664d5777",
        "colab": {
          "base_uri": "https://localhost:8080/",
          "height": 51
        }
      },
      "source": [
        "outliers = detect_outlier(data)\n",
        "print(outliers)\n",
        "print(len(outliers))\n",
        "data = data.drop(outliers)"
      ],
      "execution_count": 0,
      "outputs": [
        {
          "output_type": "stream",
          "text": [
            "[204906, 257995, 264253, 311924, 315315, 376419, 407596, 436111, 488835]\n",
            "9\n"
          ],
          "name": "stdout"
        }
      ]
    },
    {
      "cell_type": "code",
      "metadata": {
        "id": "rfz-u85QKskQ",
        "colab_type": "code",
        "outputId": "9f1239e1-d812-4c9d-d6e1-97be2f4ef86e",
        "colab": {
          "base_uri": "https://localhost:8080/",
          "height": 452
        }
      },
      "source": [
        "print(data.price.describe())\n",
        "print()\n",
        "data.price.plot(kind='hist')"
      ],
      "execution_count": 0,
      "outputs": [
        {
          "output_type": "stream",
          "text": [
            "count    4.999910e+05\n",
            "mean     2.403547e+04\n",
            "std      1.995154e+04\n",
            "min      0.000000e+00\n",
            "25%      1.249600e+04\n",
            "50%      1.988800e+04\n",
            "75%      3.000000e+04\n",
            "max      1.234567e+06\n",
            "Name: price, dtype: float64\n",
            "\n"
          ],
          "name": "stdout"
        },
        {
          "output_type": "execute_result",
          "data": {
            "text/plain": [
              "<matplotlib.axes._subplots.AxesSubplot at 0x7f4dc60e94e0>"
            ]
          },
          "metadata": {
            "tags": []
          },
          "execution_count": 26
        },
        {
          "output_type": "display_data",
          "data": {
            "image/png": "[encoded data removed]",
            "text/plain": [
              "<Figure size 432x288 with 1 Axes>"
            ]
          },
          "metadata": {
            "tags": []
          }
        }
      ]
    },
    {
      "cell_type": "code",
      "metadata": {
        "id": "-ufDhe22JfW3",
        "colab_type": "code",
        "outputId": "e6ae05ec-5eb6-453f-8bad-b31ecabdaded",
        "colab": {
          "base_uri": "https://localhost:8080/",
          "height": 282
        }
      },
      "source": [
        "data.price.plot(kind='hist',bins=300)"
      ],
      "execution_count": 0,
      "outputs": [
        {
          "output_type": "execute_result",
          "data": {
            "text/plain": [
              "<matplotlib.axes._subplots.AxesSubplot at 0x7f4db59450b8>"
            ]
          },
          "metadata": {
            "tags": []
          },
          "execution_count": 27
        },
        {
          "output_type": "display_data",
          "data": {
            "image/png": "[encoded data removed]",
            "text/plain": [
              "<Figure size 432x288 with 1 Axes>"
            ]
          },
          "metadata": {
            "tags": []
          }
        }
      ]
    },
    {
      "cell_type": "code",
      "metadata": {
        "id": "BERIkycCMYx9",
        "colab_type": "code",
        "colab": {}
      },
      "source": [
        "# data['price_category'] = pd.qcut(data['price'], q=500000, duplicates='drop',labels=False)\n",
        "# print(data.columns.values)"
      ],
      "execution_count": 0,
      "outputs": []
    },
    {
      "cell_type": "code",
      "metadata": {
        "id": "pMreSbZXce7T",
        "colab_type": "code",
        "colab": {}
      },
      "source": [
        "from sklearn import preprocessing"
      ],
      "execution_count": 0,
      "outputs": []
    },
    {
      "cell_type": "code",
      "metadata": {
        "id": "JKb68zjmgg4_",
        "colab_type": "code",
        "colab": {}
      },
      "source": [
        "le_badge_transformed = preprocessing.LabelEncoder()\n",
        "data.loc[:,\"badge_transformed\"] = le_badge_transformed.fit_transform(list(np.array(data.badge_transformed)))\n",
        "\n",
        "le_coordinates2city = preprocessing.LabelEncoder()\n",
        "data.loc[:,'coordinates2city'] = le_coordinates2city.fit_transform(list(np.array(data.coordinates2city)))"
      ],
      "execution_count": 0,
      "outputs": []
    },
    {
      "cell_type": "code",
      "metadata": {
        "id": "UD0Qj_XRI9Uk",
        "colab_type": "code",
        "colab": {}
      },
      "source": [
        "data=data.drop(['ad_id' ,'source_id', 'image' ,'url' ,'hash' ,'click_count'],axis=1)\n",
        "data=data.drop(['title', 'duplicate', 'ad_status'],axis=1)"
      ],
      "execution_count": 0,
      "outputs": []
    },
    {
      "cell_type": "code",
      "metadata": {
        "id": "c1kpmXcOmH4Q",
        "colab_type": "code",
        "colab": {}
      },
      "source": [
        "data=data.drop(['city'],axis=1)"
      ],
      "execution_count": 0,
      "outputs": []
    },
    {
      "cell_type": "code",
      "metadata": {
        "id": "nJtLRM6cmaD3",
        "colab_type": "code",
        "colab": {}
      },
      "source": [
        "data=data.drop(['state_id'],axis=1)"
      ],
      "execution_count": 0,
      "outputs": []
    },
    {
      "cell_type": "code",
      "metadata": {
        "id": "h7L5QRLaCp_b",
        "colab_type": "code",
        "outputId": "102630f2-3faa-4dea-9ad2-469e5d12dff5",
        "colab": {
          "base_uri": "https://localhost:8080/",
          "height": 765
        }
      },
      "source": [
        "from sklearn.model_selection import train_test_split\n",
        "y = data.price\n",
        "X = data.drop('price', axis=1)\n",
        "\n",
        "X_train, X_test, y_train, y_test = train_test_split(X, y,test_size=0.2)\n",
        "print(\"\\nX_train:\\n\")\n",
        "print(X_train.head())\n",
        "print(X_train.shape)\n",
        "\n",
        "print(\"\\nX_test:\\n\")\n",
        "print(X_test.head())\n",
        "print(X_test.shape)\n",
        "\n",
        "print(\"\\ny_train:\\n\")\n",
        "print(y_train.head())\n",
        "print(y_train.shape)\n",
        "\n",
        "print(\"\\ny_test:\\n\")\n",
        "print(y_test.head())\n",
        "print(y_test.shape)"
      ],
      "execution_count": 0,
      "outputs": [
        {
          "output_type": "stream",
          "text": [
            "\n",
            "X_train:\n",
            "\n",
            "        make_id  model_id  ...  datetime_year  datetime_month\n",
            "201739       99      1599  ...           2019               9\n",
            "131667       98      2197  ...           2019               8\n",
            "102812        8      1511  ...           2019               8\n",
            "376618       81      1534  ...           2019              10\n",
            "94101        29      1509  ...           2019               8\n",
            "\n",
            "[5 rows x 10 columns]\n",
            "(399992, 10)\n",
            "\n",
            "X_test:\n",
            "\n",
            "        make_id  model_id  ...  datetime_year  datetime_month\n",
            "77539        25      1529  ...           2019               8\n",
            "234170       66      1591  ...           2019               9\n",
            "306928        8      1734  ...           2019              10\n",
            "242773        5      1525  ...           2019               9\n",
            "393828       25      1529  ...           2019              10\n",
            "\n",
            "[5 rows x 10 columns]\n",
            "(99999, 10)\n",
            "\n",
            "y_train:\n",
            "\n",
            "201739     45480\n",
            "131667    102990\n",
            "102812     17180\n",
            "376618      7400\n",
            "94101      69950\n",
            "Name: price, dtype: int64\n",
            "(399992,)\n",
            "\n",
            "y_test:\n",
            "\n",
            "77539     32999\n",
            "234170       49\n",
            "306928    24700\n",
            "242773    20800\n",
            "393828    14990\n",
            "Name: price, dtype: int64\n",
            "(99999,)\n"
          ],
          "name": "stdout"
        }
      ]
    },
    {
      "cell_type": "code",
      "metadata": {
        "id": "GdQqOCvejsFJ",
        "colab_type": "code",
        "outputId": "dced56d4-74b5-48b1-e435-4d041ec016bb",
        "colab": {
          "base_uri": "https://localhost:8080/",
          "height": 68
        }
      },
      "source": [
        "X.columns.values"
      ],
      "execution_count": 0,
      "outputs": [
        {
          "output_type": "execute_result",
          "data": {
            "text/plain": [
              "array(['make_id', 'model_id', 'fuel_type_id', 'body_type_id', 'year',\n",
              "       'km_driven', 'badge_transformed', 'coordinates2city',\n",
              "       'datetime_year', 'datetime_month'], dtype=object)"
            ]
          },
          "metadata": {
            "tags": []
          },
          "execution_count": 44
        }
      ]
    },
    {
      "cell_type": "code",
      "metadata": {
        "id": "z4WL-GfH5N3j",
        "colab_type": "code",
        "colab": {}
      },
      "source": [
        "# data=data.drop(['price'],axis=1)"
      ],
      "execution_count": 0,
      "outputs": []
    },
    {
      "cell_type": "code",
      "metadata": {
        "id": "3bPlveWkM8Ir",
        "colab_type": "code",
        "colab": {}
      },
      "source": [
        "# from sklearn.model_selection import train_test_split\n",
        "# y = data.price_category\n",
        "# X = data.drop('price_category', axis=1)\n",
        "\n",
        "# X_train, X_test, y_train, y_test = train_test_split(X, y,test_size=0.2)\n",
        "# print(\"\\nX_train:\\n\")\n",
        "# print(X_train.head())\n",
        "# print(X_train.shape)\n",
        "\n",
        "# print(\"\\nX_test:\\n\")\n",
        "# print(X_test.head())\n",
        "# print(X_test.shape)\n",
        "\n",
        "# print(\"\\ny_train:\\n\")\n",
        "# print(y_train.head())\n",
        "# print(y_train.shape)\n",
        "\n",
        "# print(\"\\ny_test:\\n\")\n",
        "# print(y_test.head())\n",
        "# print(y_test.shape)"
      ],
      "execution_count": 0,
      "outputs": []
    },
    {
      "cell_type": "code",
      "metadata": {
        "id": "HbSphjJ7JgYq",
        "colab_type": "code",
        "colab": {}
      },
      "source": [
        "from sklearn.linear_model import LinearRegression\n",
        "from sklearn.metrics import mean_absolute_error\n",
        "from sklearn.metrics import mean_squared_error\n",
        "from sklearn.metrics import r2_score\n",
        "model = LinearRegression()\n",
        "model.fit(X_train, y_train)\n",
        "pred = model.predict(X_test)"
      ],
      "execution_count": 0,
      "outputs": []
    },
    {
      "cell_type": "code",
      "metadata": {
        "id": "pZY3G2dhBtro",
        "colab_type": "code",
        "outputId": "8ffd3824-f628-4bfe-dd45-f0a6078a555e",
        "colab": {
          "base_uri": "https://localhost:8080/",
          "height": 404
        }
      },
      "source": [
        "plt.figure(figsize= (6, 6))\n",
        "plt.title(\"Visualizing the Regression using Random Forest Regression algorithm\")\n",
        "sns.regplot(pred, y_test, color = \"teal\")\n",
        "plt.xlabel(\"Predicted Price\")\n",
        "plt.ylabel(\"Original Price\")\n",
        "plt.show()"
      ],
      "execution_count": 0,
      "outputs": [
        {
          "output_type": "display_data",
          "data": {
            "image/png": "[encoded data removed]",
            "text/plain": [
              "<Figure size 432x432 with 1 Axes>"
            ]
          },
          "metadata": {
            "tags": []
          }
        }
      ]
    },
    {
      "cell_type": "code",
      "metadata": {
        "id": "H0j1Zqv0B3xP",
        "colab_type": "code",
        "outputId": "87968193-e5e8-4876-d8fe-2358d0ab79f8",
        "colab": {
          "base_uri": "https://localhost:8080/",
          "height": 119
        }
      },
      "source": [
        "print(\"Mean Absolute Error is :\", mean_absolute_error(y_test, pred))\n",
        "print(\" — — — — — — — — — — — — — — — — — — — — — — —\" )\n",
        "print(\"Mean Squared Error is :\", mean_squared_error(y_test, pred))\n",
        "print(\"— — — — — — — — — — — — — — — — — — — — — — — \")\n",
        "print(\"The R2 square value of RandomForest Regressor is :\", r2_score(y_test, pred)*100)\n",
        "print(\"— — — — — — — — — — — — — — — — — — — — — — — \")"
      ],
      "execution_count": 0,
      "outputs": [
        {
          "output_type": "stream",
          "text": [
            "Mean Absolute Error is : 9661.392533968083\n",
            " — — — — — — — — — — — — — — — — — — — — — — —\n",
            "Mean Squared Error is : 288019280.4806704\n",
            "— — — — — — — — — — — — — — — — — — — — — — — \n",
            "The R2 square value of RandomForest Regressor is : 26.179811348136862\n",
            "— — — — — — — — — — — — — — — — — — — — — — — \n"
          ],
          "name": "stdout"
        }
      ]
    },
    {
      "cell_type": "code",
      "metadata": {
        "id": "4wLUsUTOKB_2",
        "colab_type": "code",
        "colab": {}
      },
      "source": [
        "from sklearn.model_selection import cross_val_score, cross_val_predict\n",
        "from sklearn import metrics"
      ],
      "execution_count": 0,
      "outputs": []
    },
    {
      "cell_type": "code",
      "metadata": {
        "id": "8OpPlvCuKEmL",
        "colab_type": "code",
        "outputId": "a2f56308-1fa2-4d56-eb5c-d9e0d126cd00",
        "colab": {
          "base_uri": "https://localhost:8080/",
          "height": 51
        }
      },
      "source": [
        "scores = cross_val_score(model, X, y, cv=10)\n",
        "print (\"Cross-validated scores:\", scores)"
      ],
      "execution_count": 0,
      "outputs": [
        {
          "output_type": "stream",
          "text": [
            "Cross-validated scores: [0.26303742 0.26126251 0.25935271 0.26315612 0.27413734 0.27091754\n",
            " 0.23322115 0.21835973 0.2662295  0.19272093]\n"
          ],
          "name": "stdout"
        }
      ]
    },
    {
      "cell_type": "code",
      "metadata": {
        "id": "sh74xz0pKxU1",
        "colab_type": "code",
        "outputId": "2964750c-861e-4207-91b2-26ad24f2a898",
        "colab": {
          "base_uri": "https://localhost:8080/",
          "height": 282
        }
      },
      "source": [
        "predictions = cross_val_predict(model, X, y, cv=10)\n",
        "plt.scatter(y, predictions)"
      ],
      "execution_count": 0,
      "outputs": [
        {
          "output_type": "execute_result",
          "data": {
            "text/plain": [
              "<matplotlib.collections.PathCollection at 0x7f4dbbd4a5f8>"
            ]
          },
          "metadata": {
            "tags": []
          },
          "execution_count": 52
        },
        {
          "output_type": "display_data",
          "data": {
            "image/png": "[encoded data removed]",
            "text/plain": [
              "<Figure size 432x288 with 1 Axes>"
            ]
          },
          "metadata": {
            "tags": []
          }
        }
      ]
    },
    {
      "cell_type": "code",
      "metadata": {
        "id": "PLdYF3TbLhCH",
        "colab_type": "code",
        "outputId": "a225fcc4-51c5-4819-fa99-60cad880c272",
        "colab": {
          "base_uri": "https://localhost:8080/",
          "height": 34
        }
      },
      "source": [
        "accuracy = metrics.r2_score(y, predictions)\n",
        "print (\"Cross-Predicted Accuracy:\", accuracy)"
      ],
      "execution_count": 0,
      "outputs": [
        {
          "output_type": "stream",
          "text": [
            "Cross-Predicted Accuracy: 0.2547032341737272\n"
          ],
          "name": "stdout"
        }
      ]
    },
    {
      "cell_type": "code",
      "metadata": {
        "id": "UD0PBN_ZxkXi",
        "colab_type": "code",
        "colab": {}
      },
      "source": [
        "#Linear Regressor doesn't work well - experiment conclusion"
      ],
      "execution_count": 0,
      "outputs": []
    }
  ]
}