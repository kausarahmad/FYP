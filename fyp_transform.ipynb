{
  "nbformat": 4,
  "nbformat_minor": 0,
  "metadata": {
    "colab": {
      "name": "fyp-transform.ipynb",
      "provenance": []
    },
    "kernelspec": {
      "name": "python3",
      "display_name": "Python 3"
    },
    "accelerator": "TPU"
  },
  "cells": [
    {
      "cell_type": "code",
      "metadata": {
        "id": "PK9Q81naC9jl",
        "colab_type": "code",
        "outputId": "99b6a711-1c33-43a3-d1ce-f1b706cc956a",
        "colab": {
          "base_uri": "https://localhost:8080/",
          "height": 258
        }
      },
      "source": [
        "pip install reverse-geocode"
      ],
      "execution_count": 0,
      "outputs": [
        {
          "output_type": "stream",
          "text": [
            "Collecting reverse-geocode\n",
            "\u001b[?25l  Downloading https://files.pythonhosted.org/packages/9a/7e/33804f0148e0e589063c9bec738ea1e350275cc16364be478dea5a3c1248/reverse_geocode-1.4.tar.gz (1.6MB)\n",
            "\u001b[K     |████████████████████████████████| 1.6MB 3.4MB/s \n",
            "\u001b[?25hRequirement already satisfied: future in /usr/local/lib/python3.6/dist-packages (from reverse-geocode) (0.16.0)\n",
            "Requirement already satisfied: numpy in /usr/local/lib/python3.6/dist-packages (from reverse-geocode) (1.17.5)\n",
            "Requirement already satisfied: scipy in /usr/local/lib/python3.6/dist-packages (from reverse-geocode) (1.4.1)\n",
            "Building wheels for collected packages: reverse-geocode\n",
            "  Building wheel for reverse-geocode (setup.py) ... \u001b[?25l\u001b[?25hdone\n",
            "  Created wheel for reverse-geocode: filename=reverse_geocode-1.4-cp36-none-any.whl size=1637801 sha256=9044070f54136e57b9f9d58a9055ef03e574e5cfe3d3f17ba643d9dfda13e2c3\n",
            "  Stored in directory: /root/.cache/pip/wheels/80/56/82/529b8b1d91c1ef49fe335d89d61bc4d244b6ed72c5063c55e9\n",
            "Successfully built reverse-geocode\n",
            "Installing collected packages: reverse-geocode\n",
            "Successfully installed reverse-geocode-1.4\n"
          ],
          "name": "stdout"
        }
      ]
    },
    {
      "cell_type": "code",
      "metadata": {
        "id": "LHYxOFbxHTSt",
        "colab_type": "code",
        "colab": {}
      },
      "source": [
        "import pandas as pd #data processing, CSV file I/O (e.g. pd.read_csv)\n",
        "import numpy as np  #linear algebra\n",
        "import re           #regular expressions\n",
        "import geopy.distance as distance\n",
        "import math\n",
        "import timeit\n",
        "import os\n",
        "import reverse_geocode"
      ],
      "execution_count": 0,
      "outputs": []
    },
    {
      "cell_type": "code",
      "metadata": {
        "id": "CQqh0VoScCew",
        "colab_type": "code",
        "colab": {}
      },
      "source": [
        "pd.options.display.max_rows = 100"
      ],
      "execution_count": 0,
      "outputs": []
    },
    {
      "cell_type": "code",
      "metadata": {
        "id": "rJ7GcgUOR04k",
        "colab_type": "code",
        "outputId": "e885782e-47f0-4e74-d874-2c8a6707bae0",
        "colab": {
          "base_uri": "https://localhost:8080/",
          "height": 122
        }
      },
      "source": [
        "from google.colab import drive\n",
        "drive.mount('/content/drive')"
      ],
      "execution_count": 0,
      "outputs": [
        {
          "output_type": "stream",
          "text": [
            "Go to this URL in a browser: https://accounts.google.com/o/oauth2/auth?client_id=947318989803-6bn6qk8qdgf4n4g3pfee6491hc0brc4i.apps.googleusercontent.com&redirect_uri=urn%3aietf%3awg%3aoauth%3a2.0%3aoob&response_type=code&scope=email%20https%3a%2f%2fwww.googleapis.com%2fauth%2fdocs.test%20https%3a%2f%2fwww.googleapis.com%2fauth%2fdrive%20https%3a%2f%2fwww.googleapis.com%2fauth%2fdrive.photos.readonly%20https%3a%2f%2fwww.googleapis.com%2fauth%2fpeopleapi.readonly\n",
            "\n",
            "Enter your authorization code:\n",
            "··········\n",
            "Mounted at /content/drive\n"
          ],
          "name": "stdout"
        }
      ]
    },
    {
      "cell_type": "code",
      "metadata": {
        "id": "jDfQr7keTvhw",
        "colab_type": "code",
        "colab": {}
      },
      "source": [
        "#reading data\n",
        "data = pd.read_csv(\"drive/My Drive/FYP/Data/ads_fact_500000.csv\", engine='python', encoding='utf-8', error_bad_lines=False)"
      ],
      "execution_count": 0,
      "outputs": []
    },
    {
      "cell_type": "code",
      "metadata": {
        "id": "RCD1G7x_ue_v",
        "colab_type": "code",
        "outputId": "195ed337-2541-444c-d8f7-34e4294f7cde",
        "colab": {
          "base_uri": "https://localhost:8080/",
          "height": 255
        }
      },
      "source": [
        "print(data)"
      ],
      "execution_count": 0,
      "outputs": [
        {
          "output_type": "stream",
          "text": [
            "           ad_id  make_id  model_id  ...  duplicate  click_count  ad_status\n",
            "0       73919640       34      1500  ...          0            0          0\n",
            "1       73919652        8      1519  ...          0            0          0\n",
            "2       73919677        8      1519  ...          0            0          0\n",
            "3       73919705       66      1547  ...          0            0          0\n",
            "4       73919723       81      1514  ...          0            0          0\n",
            "...          ...      ...       ...  ...        ...          ...        ...\n",
            "499995  93031487       86      1798  ...          0            0          0\n",
            "499996  93031488       53      1785  ...          0            0          0\n",
            "499997  93031587       29      1540  ...          0            0          0\n",
            "499998  93032161       93      1749  ...          0            0          0\n",
            "499999  93032179       29      1503  ...          0            0          0\n",
            "\n",
            "[500000 rows x 21 columns]\n"
          ],
          "name": "stdout"
        }
      ]
    },
    {
      "cell_type": "code",
      "metadata": {
        "id": "2VQOGGDvofvs",
        "colab_type": "code",
        "outputId": "17a2bba7-e680-4400-d51b-db2b0c72a34f",
        "colab": {
          "base_uri": "https://localhost:8080/",
          "height": 85
        }
      },
      "source": [
        "data.columns.values"
      ],
      "execution_count": 0,
      "outputs": [
        {
          "output_type": "execute_result",
          "data": {
            "text/plain": [
              "array(['ad_id', 'make_id', 'model_id', 'fuel_type_id', 'body_type_id',\n",
              "       'source_id', 'state_id', 'badge', 'year', 'km_driven', 'image',\n",
              "       'url', 'price', 'title', 'date_time', 'hash', 'coordinates',\n",
              "       'city', 'duplicate', 'click_count', 'ad_status'], dtype=object)"
            ]
          },
          "metadata": {
            "tags": []
          },
          "execution_count": 6
        }
      ]
    },
    {
      "cell_type": "markdown",
      "metadata": {
        "id": "RQn25GVsVdQV",
        "colab_type": "text"
      },
      "source": [
        "# **Transforming \"badge\" to \"badge_transformed\"**"
      ]
    },
    {
      "cell_type": "code",
      "metadata": {
        "id": "B0z93OnfT7Pf",
        "colab_type": "code",
        "colab": {}
      },
      "source": [
        "#removing NaNs\n",
        "data[['badge']] = data[['badge']].fillna(\"\")"
      ],
      "execution_count": 0,
      "outputs": []
    },
    {
      "cell_type": "code",
      "metadata": {
        "id": "9icVfADfVJg4",
        "colab_type": "code",
        "outputId": "aeeb34b7-62a7-4c2f-89c2-5643130a10b1",
        "colab": {
          "base_uri": "https://localhost:8080/",
          "height": 190
        }
      },
      "source": [
        "#replacing 'no' and 'all others' to empty string in badge column\n",
        "count = data.badge.str.contains('(?i)(^no$)|(^all\\W?others$)', regex=True).sum()\n",
        "print(\"count:\",count)\n",
        "print(data[data.badge.str.contains('(?i)(^no$)|(^all\\W?others$)', regex=True)]['badge'][0:5])\n",
        "data['badge_transformed'] = data.badge.replace(to_replace=r'(?i)(^no$)|(^all\\W?others$)', value='', regex=True)"
      ],
      "execution_count": 0,
      "outputs": [
        {
          "output_type": "stream",
          "text": [
            "/usr/local/lib/python3.6/dist-packages/pandas/core/strings.py:1843: UserWarning: This pattern has match groups. To actually get the groups, use str.extract.\n",
            "  return func(self, *args, **kwargs)\n"
          ],
          "name": "stderr"
        },
        {
          "output_type": "stream",
          "text": [
            "count: 22956\n",
            "2     no\n",
            "5     no\n",
            "6     no\n",
            "20    no\n",
            "22    no\n",
            "Name: badge, dtype: object\n"
          ],
          "name": "stdout"
        }
      ]
    },
    {
      "cell_type": "code",
      "metadata": {
        "id": "6f4EVPmsmBNt",
        "colab_type": "code",
        "outputId": "69c592e4-c98b-4703-9c5f-e4fefa84c180",
        "colab": {
          "base_uri": "https://localhost:8080/",
          "height": 238
        }
      },
      "source": [
        "#numeric badges\n",
        "count = data.badge_transformed.str.contains('^[0-9]+$', regex=True).sum()\n",
        "print(\"count:\",count)\n",
        "print(data[data.badge_transformed.str.contains('^[0-9]+$', regex=True)]['badge_transformed'])"
      ],
      "execution_count": 0,
      "outputs": [
        {
          "output_type": "stream",
          "text": [
            "count: 2096\n",
            "309        24\n",
            "485        16\n",
            "2040       32\n",
            "2258      500\n",
            "2905      350\n",
            "         ... \n",
            "498902    110\n",
            "499263    110\n",
            "499311      5\n",
            "499525    110\n",
            "499600     90\n",
            "Name: badge_transformed, Length: 2096, dtype: object\n"
          ],
          "name": "stdout"
        }
      ]
    },
    {
      "cell_type": "code",
      "metadata": {
        "id": "VcZgmQ5UXMeh",
        "colab_type": "code",
        "outputId": "ac37e94c-637e-4034-bba0-dc243feefc87",
        "colab": {
          "base_uri": "https://localhost:8080/",
          "height": 136
        }
      },
      "source": [
        "#replacing '+' and all other garbage non-character entries\n",
        "count = data.badge_transformed.str.contains('^[^0-9A-Za-z]+$', regex=True).sum()\n",
        "print(\"count:\",count)\n",
        "print(data[data.badge_transformed.str.contains('^[^0-9A-Za-z]+$', regex=True)]['badge_transformed'][0:5])\n",
        "data['badge_transformed'] = data.badge_transformed.replace(to_replace=r'^[^0-9A-Za-z]+$', value='', regex=True)"
      ],
      "execution_count": 0,
      "outputs": [
        {
          "output_type": "stream",
          "text": [
            "count: 388\n",
            "993     +\n",
            "1981    +\n",
            "3099    +\n",
            "6482    +\n",
            "6816    +\n",
            "Name: badge_transformed, dtype: object\n"
          ],
          "name": "stdout"
        }
      ]
    },
    {
      "cell_type": "code",
      "metadata": {
        "id": "QKIlDsHVY8QL",
        "colab_type": "code",
        "outputId": "19fab904-e905-4070-86d8-b9c3f289f656",
        "colab": {
          "base_uri": "https://localhost:8080/",
          "height": 136
        }
      },
      "source": [
        "#standardizing badge representations\n",
        "data['badge_transformed'] = data.badge_transformed.str.upper()\n",
        "\n",
        "data['badge_transformed'] = data.badge_transformed.replace(to_replace=r'-| ', value='', regex=True)\n",
        "\n",
        "count = data.badge_transformed.str.contains('(?i)4WD', regex=True).sum()\n",
        "print(\"count:\",count)\n",
        "print(data[data.badge_transformed.str.contains('(?i)4WD', regex=True)]['badge_transformed'][0:5])\n",
        "data['badge_transformed'] = data.badge_transformed.replace(to_replace=r'(?i)4WD', value='4X4', regex=True)"
      ],
      "execution_count": 0,
      "outputs": [
        {
          "output_type": "stream",
          "text": [
            "count: 2344\n",
            "345               4WD\n",
            "1028      TITANIUM4WD\n",
            "1208            ST4WD\n",
            "1389    TREND4WD7SEAT\n",
            "1411     STL4WDNSPORT\n",
            "Name: badge_transformed, dtype: object\n"
          ],
          "name": "stdout"
        }
      ]
    },
    {
      "cell_type": "code",
      "metadata": {
        "id": "npCe-M4udVVK",
        "colab_type": "code",
        "outputId": "09bec327-1846-47a7-d8b6-d1208d59e0bc",
        "colab": {
          "base_uri": "https://localhost:8080/",
          "height": 136
        }
      },
      "source": [
        "#removing 'lpg' from badge as that is already recorded in the fuel_type column\n",
        "count = data.badge_transformed.str.contains('(?i)lpg', regex=True).sum()\n",
        "print(\"count:\",count)\n",
        "print(data[data.badge_transformed.str.contains('(?i)lpg', regex=True)]['badge_transformed'][0:5])\n",
        "data['badge_transformed'] = data.badge_transformed.replace(to_replace=r'(?i)lpg', value='', regex=True)"
      ],
      "execution_count": 0,
      "outputs": [
        {
          "output_type": "stream",
          "text": [
            "count: 1064\n",
            "41              G6LPG\n",
            "790             XTLPG\n",
            "971          OMEGALPG\n",
            "1445    SV6ZSERIESLPG\n",
            "1476         OMEGALPG\n",
            "Name: badge_transformed, dtype: object\n"
          ],
          "name": "stdout"
        }
      ]
    },
    {
      "cell_type": "code",
      "metadata": {
        "id": "chGV7Cv-fSzA",
        "colab_type": "code",
        "outputId": "9cde8f5c-03fc-4460-913f-cfc00468f2d5",
        "colab": {
          "base_uri": "https://localhost:8080/",
          "height": 119
        }
      },
      "source": [
        "data.badge.head()"
      ],
      "execution_count": 0,
      "outputs": [
        {
          "output_type": "execute_result",
          "data": {
            "text/plain": [
              "0    103-TDI-COMFORTLINE\n",
              "1                 ST-4x4\n",
              "2                     no\n",
              "3             XLT-32-4x4\n",
              "4                     SX\n",
              "Name: badge, dtype: object"
            ]
          },
          "metadata": {
            "tags": []
          },
          "execution_count": 13
        }
      ]
    },
    {
      "cell_type": "code",
      "metadata": {
        "id": "g27X_bMWfYp0",
        "colab_type": "code",
        "outputId": "854394e2-a014-4328-def1-4749851bb4b8",
        "colab": {
          "base_uri": "https://localhost:8080/",
          "height": 119
        }
      },
      "source": [
        "data.badge_transformed.head()"
      ],
      "execution_count": 0,
      "outputs": [
        {
          "output_type": "execute_result",
          "data": {
            "text/plain": [
              "0    103TDICOMFORTLINE\n",
              "1                ST4X4\n",
              "2                     \n",
              "3             XLT324X4\n",
              "4                   SX\n",
              "Name: badge_transformed, dtype: object"
            ]
          },
          "metadata": {
            "tags": []
          },
          "execution_count": 14
        }
      ]
    },
    {
      "cell_type": "code",
      "metadata": {
        "id": "xQs8FxoPzz2w",
        "colab_type": "code",
        "outputId": "1e44a9bf-652c-41b3-f0d6-3ea71bc8b44f",
        "colab": {
          "base_uri": "https://localhost:8080/",
          "height": 119
        }
      },
      "source": [
        "data.badge.tail()"
      ],
      "execution_count": 0,
      "outputs": [
        {
          "output_type": "execute_result",
          "data": {
            "text/plain": [
              "499995           SRT-8\n",
              "499996            SRT8\n",
              "499997          CV-2WD\n",
              "499998         F-SPORT\n",
              "499999    ASCENT-SPORT\n",
              "Name: badge, dtype: object"
            ]
          },
          "metadata": {
            "tags": []
          },
          "execution_count": 15
        }
      ]
    },
    {
      "cell_type": "code",
      "metadata": {
        "id": "bh6MkuKTzupX",
        "colab_type": "code",
        "outputId": "b3377059-1591-45aa-b7fa-6a657b54ec35",
        "colab": {
          "base_uri": "https://localhost:8080/",
          "height": 119
        }
      },
      "source": [
        "data.badge_transformed.tail()"
      ],
      "execution_count": 0,
      "outputs": [
        {
          "output_type": "execute_result",
          "data": {
            "text/plain": [
              "499995           SRT8\n",
              "499996           SRT8\n",
              "499997          CV2WD\n",
              "499998         FSPORT\n",
              "499999    ASCENTSPORT\n",
              "Name: badge_transformed, dtype: object"
            ]
          },
          "metadata": {
            "tags": []
          },
          "execution_count": 16
        }
      ]
    },
    {
      "cell_type": "code",
      "metadata": {
        "id": "nKQ2fNLIBmBH",
        "colab_type": "code",
        "colab": {}
      },
      "source": [
        "#data.to_csv(\"drive/My Drive/FYP/Data/ads_fact_500000_badge.csv\", encoding='utf-8', index=False)"
      ],
      "execution_count": 0,
      "outputs": []
    },
    {
      "cell_type": "markdown",
      "metadata": {
        "id": "xc5lbV5Ck1FU",
        "colab_type": "text"
      },
      "source": [
        "# **Transforming \"coordinates\" to \"cities\" and \"states\"**"
      ]
    },
    {
      "cell_type": "code",
      "metadata": {
        "id": "JgbSlREtk0gU",
        "colab_type": "code",
        "colab": {}
      },
      "source": [
        "# auspost_locations = pd.read_csv(\"drive/My Drive/FYP/Data/auspost-locations.csv\", usecols=['Suburb','State','Lat','Lon'], engine='python', encoding='utf-8', error_bad_lines=False)\n",
        "# auspost_locations.head()"
      ],
      "execution_count": 0,
      "outputs": []
    },
    {
      "cell_type": "code",
      "metadata": {
        "id": "wlpC_kHUNjBE",
        "colab_type": "code",
        "colab": {}
      },
      "source": [
        "# suburbs = []\n",
        "# states = []\n",
        "# for i in range(0, len(data.index)):\n",
        "#     print(i)\n",
        "#     try:\n",
        "#         coord1=tuple(np.array(data.iloc[i].coordinates.split(',')).astype(np.float))\n",
        "#     except:\n",
        "#         continue\n",
        "#     min_dist = math.inf\n",
        "#     min_index = 0\n",
        "#     for j in range(0, len(auspost_locations.index)):\n",
        "#         coord2=(auspost_locations.iloc[j].Lat, auspost_locations.iloc[j].Lon)\n",
        "#         dist = distance.distance(coord1,coord2)\n",
        "#         if dist < min_dist:\n",
        "#             min_dist = dist\n",
        "#             min_index = j\n",
        "\n",
        "#     suburbs.append(auspost_locations.iloc[min_index].loc['Suburb'])\n",
        "#     states.append(auspost_locations.iloc[min_index].loc['State'])"
      ],
      "execution_count": 0,
      "outputs": []
    },
    {
      "cell_type": "code",
      "metadata": {
        "id": "_z8m8wTBqrIl",
        "colab_type": "code",
        "colab": {}
      },
      "source": [
        "# np.savetxt('drive/My Drive/FYP/Data/suburbs.txt', suburbs, delimiter=',')\n",
        "# np.savetxt('drive/My Drive/FYP/Data/states.txt', states, delimiter=',')"
      ],
      "execution_count": 0,
      "outputs": []
    },
    {
      "cell_type": "code",
      "metadata": {
        "id": "l0ftMY3LEvPd",
        "colab_type": "code",
        "colab": {}
      },
      "source": [
        "state_files = os.listdir(\"drive/My Drive/FYP/Data/Location/\")\n",
        "city2state = {}\n",
        "for file in state_files:\n",
        "    with open(\"drive/My Drive/FYP/Data/Location/\"+file) as f:\n",
        "        cities = [i.strip() for i in f.read().split(\"\\n\")]\n",
        "        for city in cities:\n",
        "          city2state[city] = file.replace(\".txt\", \"\")\n",
        "print(city2state)"
      ],
      "execution_count": 0,
      "outputs": []
    },
    {
      "cell_type": "code",
      "metadata": {
        "id": "kXdQKwZv_Nzn",
        "colab_type": "code",
        "outputId": "2d6b24ec-5c1c-4269-e489-c9d2af7abe1f",
        "colab": {
          "base_uri": "https://localhost:8080/",
          "height": 215
        }
      },
      "source": [
        "states = []\n",
        "cities = []\n",
        "for i in range(0, len(data.index)):\n",
        "  try:\n",
        "    coordinates = tuple(np.array(data.iloc[i].coordinates.split(',')).astype(np.float)),\n",
        "    try:\n",
        "      city = reverse_geocode.search(coordinates)[0]['city']\n",
        "    except:\n",
        "      city = data.iloc[i].coordinates\n",
        "  except:\n",
        "    city = data.iloc[i].coordinates\n",
        "  \n",
        "  states.append(city2state[city])\n",
        "  cities.append(city)"
      ],
      "execution_count": 0,
      "outputs": [
        {
          "output_type": "error",
          "ename": "KeyError",
          "evalue": "ignored",
          "traceback": [
            "\u001b[0;31m---------------------------------------------------------------------------\u001b[0m",
            "\u001b[0;31mKeyError\u001b[0m                                  Traceback (most recent call last)",
            "\u001b[0;32m<ipython-input-30-2a39da102b6e>\u001b[0m in \u001b[0;36m<module>\u001b[0;34m()\u001b[0m\n\u001b[1;32m     11\u001b[0m     \u001b[0mcity\u001b[0m \u001b[0;34m=\u001b[0m \u001b[0mdata\u001b[0m\u001b[0;34m.\u001b[0m\u001b[0miloc\u001b[0m\u001b[0;34m[\u001b[0m\u001b[0mi\u001b[0m\u001b[0;34m]\u001b[0m\u001b[0;34m.\u001b[0m\u001b[0mcoordinates\u001b[0m\u001b[0;34m\u001b[0m\u001b[0;34m\u001b[0m\u001b[0m\n\u001b[1;32m     12\u001b[0m \u001b[0;34m\u001b[0m\u001b[0m\n\u001b[0;32m---> 13\u001b[0;31m   \u001b[0mstates\u001b[0m\u001b[0;34m.\u001b[0m\u001b[0mappend\u001b[0m\u001b[0;34m(\u001b[0m\u001b[0mcity2state\u001b[0m\u001b[0;34m[\u001b[0m\u001b[0mcity\u001b[0m\u001b[0;34m]\u001b[0m\u001b[0;34m)\u001b[0m\u001b[0;34m\u001b[0m\u001b[0;34m\u001b[0m\u001b[0m\n\u001b[0m\u001b[1;32m     14\u001b[0m   \u001b[0mcities\u001b[0m\u001b[0;34m.\u001b[0m\u001b[0mappend\u001b[0m\u001b[0;34m(\u001b[0m\u001b[0mcity\u001b[0m\u001b[0;34m)\u001b[0m\u001b[0;34m\u001b[0m\u001b[0;34m\u001b[0m\u001b[0m\n",
            "\u001b[0;31mKeyError\u001b[0m: 'Gymea'"
          ]
        }
      ]
    },
    {
      "cell_type": "code",
      "metadata": {
        "id": "YhpKB8RNO8Hk",
        "colab_type": "code",
        "outputId": "d22dd0fd-ca0c-483d-d663-2ece4f233e21",
        "colab": {
          "base_uri": "https://localhost:8080/",
          "height": 170
        }
      },
      "source": [
        "from geopy.geocoders import Nominatim\n",
        "geolocator = Nominatim(user_agent=\"specify_your_app_name_here\")\n",
        "city=[]\n",
        "for i in range (data.size):\n",
        "  location = geolocator.reverse(data.coordinates[i])\n",
        "  #city.append(location.address.split(\",\")[-4].strip())\n",
        "  #print (i, location.address.split(\",\")[-4].strip())\n",
        "  loc_dict = location.raw\n",
        "  if 'city' in loc_dict['address']:\n",
        "    print(i, loc_dict['address']['city'])\n",
        "\n",
        "#location = geolocator.reverse(\"-31.7969755,115.8154526\")\n",
        "\n",
        "# location = geolocator.reverse(\"-37.815365,145.2265472\")\n",
        "# print (location.address)"
      ],
      "execution_count": 0,
      "outputs": [
        {
          "output_type": "stream",
          "text": [
            "0 Sydney\n",
            "1 Sydney\n",
            "2 Sydney\n",
            "3 Perth\n",
            "6 Joondalup\n",
            "7 Perth\n",
            "8 Perth\n",
            "13 Toowoomba\n",
            "15 Geelong\n"
          ],
          "name": "stdout"
        }
      ]
    },
    {
      "cell_type": "code",
      "metadata": {
        "id": "ZkBTpjic_UTb",
        "colab_type": "code",
        "outputId": "c7711bc0-c623-4ab7-c4ea-83f0b0050788",
        "colab": {
          "base_uri": "https://localhost:8080/",
          "height": 358
        }
      },
      "source": [
        "data['city2state'] = states\n",
        "data['coordinates2city'] = cities\n",
        "data.coordinates2city\n",
        "data.city2state"
      ],
      "execution_count": 0,
      "outputs": [
        {
          "output_type": "error",
          "ename": "ValueError",
          "evalue": "ignored",
          "traceback": [
            "\u001b[0;31m---------------------------------------------------------------------------\u001b[0m",
            "\u001b[0;31mValueError\u001b[0m                                Traceback (most recent call last)",
            "\u001b[0;32m<ipython-input-31-b869d0c54606>\u001b[0m in \u001b[0;36m<module>\u001b[0;34m()\u001b[0m\n\u001b[0;32m----> 1\u001b[0;31m \u001b[0mdata\u001b[0m\u001b[0;34m[\u001b[0m\u001b[0;34m'city2state'\u001b[0m\u001b[0;34m]\u001b[0m \u001b[0;34m=\u001b[0m \u001b[0mstates\u001b[0m\u001b[0;34m\u001b[0m\u001b[0;34m\u001b[0m\u001b[0m\n\u001b[0m\u001b[1;32m      2\u001b[0m \u001b[0mdata\u001b[0m\u001b[0;34m[\u001b[0m\u001b[0;34m'coordinates2city'\u001b[0m\u001b[0;34m]\u001b[0m \u001b[0;34m=\u001b[0m \u001b[0mcities\u001b[0m\u001b[0;34m\u001b[0m\u001b[0;34m\u001b[0m\u001b[0m\n\u001b[1;32m      3\u001b[0m \u001b[0mdata\u001b[0m\u001b[0;34m.\u001b[0m\u001b[0mcoordinates2city\u001b[0m\u001b[0;34m\u001b[0m\u001b[0;34m\u001b[0m\u001b[0m\n\u001b[1;32m      4\u001b[0m \u001b[0mdata\u001b[0m\u001b[0;34m.\u001b[0m\u001b[0mcity2state\u001b[0m\u001b[0;34m\u001b[0m\u001b[0;34m\u001b[0m\u001b[0m\n",
            "\u001b[0;32m/usr/local/lib/python3.6/dist-packages/pandas/core/frame.py\u001b[0m in \u001b[0;36m__setitem__\u001b[0;34m(self, key, value)\u001b[0m\n\u001b[1;32m   3485\u001b[0m         \u001b[0;32melse\u001b[0m\u001b[0;34m:\u001b[0m\u001b[0;34m\u001b[0m\u001b[0;34m\u001b[0m\u001b[0m\n\u001b[1;32m   3486\u001b[0m             \u001b[0;31m# set column\u001b[0m\u001b[0;34m\u001b[0m\u001b[0;34m\u001b[0m\u001b[0;34m\u001b[0m\u001b[0m\n\u001b[0;32m-> 3487\u001b[0;31m             \u001b[0mself\u001b[0m\u001b[0;34m.\u001b[0m\u001b[0m_set_item\u001b[0m\u001b[0;34m(\u001b[0m\u001b[0mkey\u001b[0m\u001b[0;34m,\u001b[0m \u001b[0mvalue\u001b[0m\u001b[0;34m)\u001b[0m\u001b[0;34m\u001b[0m\u001b[0;34m\u001b[0m\u001b[0m\n\u001b[0m\u001b[1;32m   3488\u001b[0m \u001b[0;34m\u001b[0m\u001b[0m\n\u001b[1;32m   3489\u001b[0m     \u001b[0;32mdef\u001b[0m \u001b[0m_setitem_slice\u001b[0m\u001b[0;34m(\u001b[0m\u001b[0mself\u001b[0m\u001b[0;34m,\u001b[0m \u001b[0mkey\u001b[0m\u001b[0;34m,\u001b[0m \u001b[0mvalue\u001b[0m\u001b[0;34m)\u001b[0m\u001b[0;34m:\u001b[0m\u001b[0;34m\u001b[0m\u001b[0;34m\u001b[0m\u001b[0m\n",
            "\u001b[0;32m/usr/local/lib/python3.6/dist-packages/pandas/core/frame.py\u001b[0m in \u001b[0;36m_set_item\u001b[0;34m(self, key, value)\u001b[0m\n\u001b[1;32m   3562\u001b[0m \u001b[0;34m\u001b[0m\u001b[0m\n\u001b[1;32m   3563\u001b[0m         \u001b[0mself\u001b[0m\u001b[0;34m.\u001b[0m\u001b[0m_ensure_valid_index\u001b[0m\u001b[0;34m(\u001b[0m\u001b[0mvalue\u001b[0m\u001b[0;34m)\u001b[0m\u001b[0;34m\u001b[0m\u001b[0;34m\u001b[0m\u001b[0m\n\u001b[0;32m-> 3564\u001b[0;31m         \u001b[0mvalue\u001b[0m \u001b[0;34m=\u001b[0m \u001b[0mself\u001b[0m\u001b[0;34m.\u001b[0m\u001b[0m_sanitize_column\u001b[0m\u001b[0;34m(\u001b[0m\u001b[0mkey\u001b[0m\u001b[0;34m,\u001b[0m \u001b[0mvalue\u001b[0m\u001b[0;34m)\u001b[0m\u001b[0;34m\u001b[0m\u001b[0;34m\u001b[0m\u001b[0m\n\u001b[0m\u001b[1;32m   3565\u001b[0m         \u001b[0mNDFrame\u001b[0m\u001b[0;34m.\u001b[0m\u001b[0m_set_item\u001b[0m\u001b[0;34m(\u001b[0m\u001b[0mself\u001b[0m\u001b[0;34m,\u001b[0m \u001b[0mkey\u001b[0m\u001b[0;34m,\u001b[0m \u001b[0mvalue\u001b[0m\u001b[0;34m)\u001b[0m\u001b[0;34m\u001b[0m\u001b[0;34m\u001b[0m\u001b[0m\n\u001b[1;32m   3566\u001b[0m \u001b[0;34m\u001b[0m\u001b[0m\n",
            "\u001b[0;32m/usr/local/lib/python3.6/dist-packages/pandas/core/frame.py\u001b[0m in \u001b[0;36m_sanitize_column\u001b[0;34m(self, key, value, broadcast)\u001b[0m\n\u001b[1;32m   3747\u001b[0m \u001b[0;34m\u001b[0m\u001b[0m\n\u001b[1;32m   3748\u001b[0m             \u001b[0;31m# turn me into an ndarray\u001b[0m\u001b[0;34m\u001b[0m\u001b[0;34m\u001b[0m\u001b[0;34m\u001b[0m\u001b[0m\n\u001b[0;32m-> 3749\u001b[0;31m             \u001b[0mvalue\u001b[0m \u001b[0;34m=\u001b[0m \u001b[0msanitize_index\u001b[0m\u001b[0;34m(\u001b[0m\u001b[0mvalue\u001b[0m\u001b[0;34m,\u001b[0m \u001b[0mself\u001b[0m\u001b[0;34m.\u001b[0m\u001b[0mindex\u001b[0m\u001b[0;34m,\u001b[0m \u001b[0mcopy\u001b[0m\u001b[0;34m=\u001b[0m\u001b[0;32mFalse\u001b[0m\u001b[0;34m)\u001b[0m\u001b[0;34m\u001b[0m\u001b[0;34m\u001b[0m\u001b[0m\n\u001b[0m\u001b[1;32m   3750\u001b[0m             \u001b[0;32mif\u001b[0m \u001b[0;32mnot\u001b[0m \u001b[0misinstance\u001b[0m\u001b[0;34m(\u001b[0m\u001b[0mvalue\u001b[0m\u001b[0;34m,\u001b[0m \u001b[0;34m(\u001b[0m\u001b[0mnp\u001b[0m\u001b[0;34m.\u001b[0m\u001b[0mndarray\u001b[0m\u001b[0;34m,\u001b[0m \u001b[0mIndex\u001b[0m\u001b[0;34m)\u001b[0m\u001b[0;34m)\u001b[0m\u001b[0;34m:\u001b[0m\u001b[0;34m\u001b[0m\u001b[0;34m\u001b[0m\u001b[0m\n\u001b[1;32m   3751\u001b[0m                 \u001b[0;32mif\u001b[0m \u001b[0misinstance\u001b[0m\u001b[0;34m(\u001b[0m\u001b[0mvalue\u001b[0m\u001b[0;34m,\u001b[0m \u001b[0mlist\u001b[0m\u001b[0;34m)\u001b[0m \u001b[0;32mand\u001b[0m \u001b[0mlen\u001b[0m\u001b[0;34m(\u001b[0m\u001b[0mvalue\u001b[0m\u001b[0;34m)\u001b[0m \u001b[0;34m>\u001b[0m \u001b[0;36m0\u001b[0m\u001b[0;34m:\u001b[0m\u001b[0;34m\u001b[0m\u001b[0;34m\u001b[0m\u001b[0m\n",
            "\u001b[0;32m/usr/local/lib/python3.6/dist-packages/pandas/core/internals/construction.py\u001b[0m in \u001b[0;36msanitize_index\u001b[0;34m(data, index, copy)\u001b[0m\n\u001b[1;32m    610\u001b[0m \u001b[0;34m\u001b[0m\u001b[0m\n\u001b[1;32m    611\u001b[0m     \u001b[0;32mif\u001b[0m \u001b[0mlen\u001b[0m\u001b[0;34m(\u001b[0m\u001b[0mdata\u001b[0m\u001b[0;34m)\u001b[0m \u001b[0;34m!=\u001b[0m \u001b[0mlen\u001b[0m\u001b[0;34m(\u001b[0m\u001b[0mindex\u001b[0m\u001b[0;34m)\u001b[0m\u001b[0;34m:\u001b[0m\u001b[0;34m\u001b[0m\u001b[0;34m\u001b[0m\u001b[0m\n\u001b[0;32m--> 612\u001b[0;31m         \u001b[0;32mraise\u001b[0m \u001b[0mValueError\u001b[0m\u001b[0;34m(\u001b[0m\u001b[0;34m\"Length of values does not match length of index\"\u001b[0m\u001b[0;34m)\u001b[0m\u001b[0;34m\u001b[0m\u001b[0;34m\u001b[0m\u001b[0m\n\u001b[0m\u001b[1;32m    613\u001b[0m \u001b[0;34m\u001b[0m\u001b[0m\n\u001b[1;32m    614\u001b[0m     \u001b[0;32mif\u001b[0m \u001b[0misinstance\u001b[0m\u001b[0;34m(\u001b[0m\u001b[0mdata\u001b[0m\u001b[0;34m,\u001b[0m \u001b[0mABCIndexClass\u001b[0m\u001b[0;34m)\u001b[0m \u001b[0;32mand\u001b[0m \u001b[0;32mnot\u001b[0m \u001b[0mcopy\u001b[0m\u001b[0;34m:\u001b[0m\u001b[0;34m\u001b[0m\u001b[0;34m\u001b[0m\u001b[0m\n",
            "\u001b[0;31mValueError\u001b[0m: Length of values does not match length of index"
          ]
        }
      ]
    },
    {
      "cell_type": "code",
      "metadata": {
        "id": "CgsgPcv8_ss9",
        "colab_type": "code",
        "outputId": "10dba8bc-8bbb-4a84-9f10-aaaa65a993d5",
        "colab": {
          "base_uri": "https://localhost:8080/",
          "height": 102
        }
      },
      "source": [
        "print(data.columns.values)\n",
        "print(data)"
      ],
      "execution_count": 0,
      "outputs": [
        {
          "output_type": "execute_result",
          "data": {
            "text/plain": [
              "array(['ad_id', 'make_id', 'model_id', 'fuel_type_id', 'body_type_id',\n",
              "       'source_id', 'state_id', 'badge', 'year', 'km_driven', 'image',\n",
              "       'url', 'price', 'title', 'date_time', 'hash', 'coordinates',\n",
              "       'city', 'duplicate', 'click_count', 'ad_status',\n",
              "       'badge_transformed', 'coordinates2city'], dtype=object)"
            ]
          },
          "metadata": {
            "tags": []
          },
          "execution_count": 24
        }
      ]
    },
    {
      "cell_type": "code",
      "metadata": {
        "id": "3lFQ61BvCAt3",
        "colab_type": "code",
        "outputId": "1509cc03-7e31-43ba-f3d1-4dc8a1af4579",
        "colab": {
          "base_uri": "https://localhost:8080/",
          "height": 221
        }
      },
      "source": [
        "data.coordinates2city"
      ],
      "execution_count": 0,
      "outputs": [
        {
          "output_type": "execute_result",
          "data": {
            "text/plain": [
              "0                 Gymea\n",
              "1           Castle Hill\n",
              "2            Toongabbie\n",
              "3             Joondanna\n",
              "4           Forestville\n",
              "              ...      \n",
              "499995           Myaree\n",
              "499996           Myaree\n",
              "499997      Morningside\n",
              "499998      Castle Hill\n",
              "499999    Mayfield West\n",
              "Name: coordinates2city, Length: 500000, dtype: object"
            ]
          },
          "metadata": {
            "tags": []
          },
          "execution_count": 32
        }
      ]
    },
    {
      "cell_type": "code",
      "metadata": {
        "id": "IDj3WY-jDn0e",
        "colab_type": "code",
        "outputId": "9d8bc728-cbfb-4a25-b744-a1c70b4b5980",
        "colab": {
          "base_uri": "https://localhost:8080/",
          "height": 54
        }
      },
      "source": [
        ""
      ],
      "execution_count": 0,
      "outputs": [
        {
          "output_type": "stream",
          "text": [
            "{'Canberra': 'ACT', 'Adelaide': 'SA', 'Ceduna': 'SA', 'Clare': 'SA', 'Coober Pedy': 'SA', 'Gawler': 'SA', 'Goolwa': 'SA', 'Iron Knob': 'SA', 'Leigh Creek': 'SA', 'Loxton': 'SA', 'Millicent': 'SA', 'Mount Gambier': 'SA', 'Murray Bridge': 'SA', 'Naracoorte': 'SA', 'Oodnadatta': 'SA', 'Port Adelaide Enfield': 'SA', 'Port Augusta': 'SA', 'Port Lincoln': 'SA', 'Port Pirie': 'SA', 'Renmark': 'SA', 'Victor Harbor': 'SA', 'Whyalla': 'SA', 'Broome': 'WA', 'Bunbury': 'WA', 'Busselton': 'WA', 'Coolgardie': 'WA', 'Dampier': 'WA', 'Derby': 'WA', 'Fremantle': 'WA', 'Geraldton': 'WA', 'Kalgoorlie': 'WA', 'Kambalda': 'WA', 'Katanning': 'WA', 'Kwinana': 'WA', 'Mandurah': 'WA', 'Meekatharra': 'WA', 'Mount Barker': 'WA', 'Narrogin': 'WA', 'Newman': 'WA', 'Northam': 'WA', 'Perth': 'WA', 'Port Hedland': 'WA', 'Tom Price': 'WA', 'Wyndham': 'WA', 'Albury-Wodonga': 'Vic', 'Armidale': 'NSW', 'Ballina': 'NSW', 'Balranald': 'NSW', 'Batemans Bay': 'NSW', 'Bathurst': 'NSW', 'Bega': 'NSW', 'Bourke': 'NSW', 'Bowral': 'NSW', 'Broken Hill': 'NSW', 'Byron Bay': 'NSW', 'Camden': 'NSW', 'Campbelltown': 'NSW', 'Cobar': 'NSW', 'Coffs Harbour': 'NSW', 'Cooma': 'NSW', 'Coonabarabran': 'NSW', 'Coonamble': 'NSW', 'Cootamundra': 'NSW', 'Corowa': 'NSW', 'Cowra': 'NSW', 'Deniliquin': 'NSW', 'Dubbo': 'NSW', 'Forbes': 'NSW', 'Forster': 'NSW', 'Glen Innes': 'NSW', 'Gosford': 'NSW', 'Goulburn': 'NSW', 'Grafton': 'NSW', 'Griffith': 'NSW', 'Gundagai': 'NSW', 'Gunnedah': 'NSW', 'Hay': 'NSW', 'Inverell': 'NSW', 'Junee': 'NSW', 'Katoomba': 'NSW', 'Kempsey': 'NSW', 'Kiama': 'NSW', 'Kurri Kurri': 'NSW', 'Lake Cargelligo': 'NSW', 'Lismore': 'NSW', 'Lithgow': 'NSW', 'Maitland': 'NSW', 'Moree': 'NSW', 'Moruya': 'NSW', 'Murwillumbah': 'NSW', 'Muswellbrook': 'NSW', 'Nambucca Heads': 'NSW', 'Narrabri': 'NSW', 'Narrandera': 'NSW', 'Newcastle': 'NSW', 'Nowra-Bomaderry': 'NSW', 'Orange': 'NSW', 'Parkes': 'NSW', 'Parramatta': 'NSW', 'Penrith': 'NSW', 'Port Macquarie': 'NSW', 'Queanbeyan': 'NSW', 'Raymond Terrace': 'NSW', 'Richmond': 'TAS', 'Scone': 'NSW', 'Singleton': 'NSW', 'Sydney': 'NSW', 'Tamworth': 'NSW', 'Taree': 'NSW', 'Temora': 'NSW', 'Tenterfield': 'NSW', 'Tumut': 'NSW', 'Ulladulla': 'NSW', 'Wagga Wagga': 'NSW', 'Wauchope': 'NSW', 'Wellington': 'NSW', 'West Wyalong': 'NSW', 'Windsor': 'NSW', 'Wollongong': 'NSW', 'Wyong': 'NSW', 'Yass': 'NSW', 'Young': 'NSW', 'Alice Springs': 'NT', 'Anthony Lagoon': 'NT', 'Darwin': 'NT', 'Katherine': 'NT', 'Tennant Creek': 'NT', 'Beaconsfield': 'TAS', 'Bell Bay': 'TAS', 'Burnie': 'TAS', 'Devonport': 'TAS', 'Hobart': 'TAS', 'Kingston': 'TAS', 'Launceston': 'TAS', 'New Norfolk': 'TAS', 'Queenstown': 'TAS', 'Rosebery': 'TAS', 'Smithton': 'TAS', 'Stanley': 'TAS', 'Ulverstone': 'TAS', 'Wynyard': 'TAS', 'Ararat': 'Vic', 'Bacchus Marsh': 'Vic', 'Bairnsdale': 'Vic', 'Ballarat': 'Vic', 'Beechworth': 'Vic', 'Benalla': 'Vic', 'Bendigo': 'Vic', 'Castlemaine': 'Vic', 'Colac': 'Vic', 'Echuca': 'Vic', 'Geelong': 'Vic', 'Hamilton': 'Vic', 'Healesville': 'Vic', 'Horsham': 'Vic', 'Kerang': 'Vic', 'Kyabram': 'Vic', 'Kyneton': 'Vic', 'Lakes Entrance': 'Vic', 'Maryborough': 'Qld', 'Melbourne': 'Vic', 'Mildura': 'Vic', 'Moe': 'Vic', 'Morwell': 'Vic', 'Port Fairy': 'Vic', 'Portland': 'Vic', 'Sale': 'Vic', 'Sea Lake': 'Vic', 'Seymour': 'Vic', 'Shepparton': 'Vic', 'Sunbury': 'Vic', 'Swan Hill': 'Vic', 'Traralgon': 'Vic', 'Yarrawonga': 'Vic', 'Wangaratta': 'Vic', 'Warragul': 'Vic', 'Werribee': 'Vic', 'Wonthaggi': 'Vic', 'Ayr': 'Qld', 'Beaudesert': 'Qld', 'Blackwater': 'Qld', 'Bowen': 'Qld', 'Brisbane': 'Qld', 'Buderim': 'Qld', 'Bundaberg': 'Qld', 'Caboolture': 'Qld', 'Cairns': 'Qld', 'Charleville': 'Qld', 'Charters Towers': 'Qld', 'Cooktown': 'Qld', 'Dalby': 'Qld', 'Deception Bay': 'Qld', 'Emerald': 'Qld', 'Gatton': 'Qld', 'Gladstone': 'Qld', 'Gold Coast': 'Qld', 'Goondiwindi': 'Qld', 'Gympie': 'Qld', 'Hervey Bay': 'Qld', 'Ingham': 'Qld', 'Innisfail': 'Qld', 'Kingaroy': 'Qld', 'Mackay': 'Qld', 'Mareeba': 'Qld', 'Maroochydore': 'Qld', 'Moonie': 'Qld', 'Moranbah': 'Qld', 'Mount Isa': 'Qld', 'Mount Morgan': 'Qld', 'Moura': 'Qld', 'Redcliffe': 'Qld', 'Rockhampton': 'Qld', 'Roma': 'Qld', 'Stanthorpe': 'Qld', 'Toowoomba': 'Qld', 'Townsville': 'Qld', 'Warwick': 'Qld', 'Weipa': 'Qld', 'Winton': 'Qld', 'Yeppoon': 'Qld'}\n"
          ],
          "name": "stdout"
        }
      ]
    },
    {
      "cell_type": "code",
      "metadata": {
        "id": "6zUZs8T-_fbF",
        "colab_type": "code",
        "colab": {}
      },
      "source": [
        "#data.to_csv(\"drive/My Drive/FYP/Data/ads_fact_500000_badge_location.csv\", encoding='utf-8', index=False)"
      ],
      "execution_count": 0,
      "outputs": []
    },
    {
      "cell_type": "markdown",
      "metadata": {
        "id": "r1UBirLDKs-m",
        "colab_type": "text"
      },
      "source": [
        "# **Other transformations**"
      ]
    },
    {
      "cell_type": "code",
      "metadata": {
        "id": "dWB-KQxzKxL3",
        "colab_type": "code",
        "outputId": "32156773-4c17-4637-dd67-ef38d0ba8df0",
        "colab": {
          "base_uri": "https://localhost:8080/",
          "height": 425
        }
      },
      "source": [
        "data['datetime_year'] = 0\n",
        "data['datetime_month'] = 0\n",
        "data['datetime_daytime'] = ''\n",
        "\n",
        "data[['datetime_year','datetime_month','datetime_daytime']] = data.date_time.str.split('-', expand=True)\n",
        "\n",
        "data = data.drop(['datetime_daytime'], axis=1)\n",
        "data['datetime_year'] = data['datetime_year'].astype(int)\n",
        "data['datetime_month'] = data['datetime_month'].astype(int)\n",
        "\n",
        "print(data.datetime_year)\n",
        "print(data.datetime_month)"
      ],
      "execution_count": 0,
      "outputs": [
        {
          "output_type": "stream",
          "text": [
            "0         2019\n",
            "1         2019\n",
            "2         2019\n",
            "3         2019\n",
            "4         2019\n",
            "          ... \n",
            "499995    2019\n",
            "499996    2019\n",
            "499997    2019\n",
            "499998    2019\n",
            "499999    2019\n",
            "Name: datetime_year, Length: 500000, dtype: int64\n",
            "0          7\n",
            "1          7\n",
            "2          7\n",
            "3          7\n",
            "4          7\n",
            "          ..\n",
            "499995    11\n",
            "499996    11\n",
            "499997    11\n",
            "499998    11\n",
            "499999    11\n",
            "Name: datetime_month, Length: 500000, dtype: int64\n"
          ],
          "name": "stdout"
        }
      ]
    },
    {
      "cell_type": "code",
      "metadata": {
        "id": "TloVo4ATLuVH",
        "colab_type": "code",
        "outputId": "964b657a-4a7c-41c2-f965-9c39ea5f2e9c",
        "colab": {
          "base_uri": "https://localhost:8080/",
          "height": 357
        }
      },
      "source": [
        "print(data.columns.values)\n",
        "print(len(data))\n",
        "print(data)"
      ],
      "execution_count": 0,
      "outputs": [
        {
          "output_type": "stream",
          "text": [
            "['ad_id' 'make_id' 'model_id' 'fuel_type_id' 'body_type_id' 'source_id'\n",
            " 'state_id' 'badge' 'year' 'km_driven' 'image' 'url' 'price' 'title'\n",
            " 'date_time' 'hash' 'coordinates' 'city' 'duplicate' 'click_count'\n",
            " 'ad_status' 'badge_transformed' 'coordinates2city' 'datetime_year'\n",
            " 'datetime_month']\n",
            "500000\n",
            "           ad_id  make_id  ...  datetime_year  datetime_month\n",
            "0       73919640       34  ...           2019               7\n",
            "1       73919652        8  ...           2019               7\n",
            "2       73919677        8  ...           2019               7\n",
            "3       73919705       66  ...           2019               7\n",
            "4       73919723       81  ...           2019               7\n",
            "...          ...      ...  ...            ...             ...\n",
            "499995  93031487       86  ...           2019              11\n",
            "499996  93031488       53  ...           2019              11\n",
            "499997  93031587       29  ...           2019              11\n",
            "499998  93032161       93  ...           2019              11\n",
            "499999  93032179       29  ...           2019              11\n",
            "\n",
            "[500000 rows x 25 columns]\n"
          ],
          "name": "stdout"
        }
      ]
    },
    {
      "cell_type": "code",
      "metadata": {
        "id": "IptqKloMLEwG",
        "colab_type": "code",
        "colab": {}
      },
      "source": [
        "data.to_csv(\"drive/My Drive/FYP/Data/ads_fact_500000_transformed.csv\", encoding='utf-8', index=False)"
      ],
      "execution_count": 0,
      "outputs": []
    }
  ]
}